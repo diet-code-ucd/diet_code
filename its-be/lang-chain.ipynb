{
 "cells": [
  {
   "cell_type": "code",
   "execution_count": null,
   "id": "10b0dc2b",
   "metadata": {},
   "outputs": [],
   "source": [
    "import numpy as np\n",
    "import pandas as pd\n",
    "import json"
   ]
  },
  {
   "cell_type": "code",
   "execution_count": null,
   "id": "b74f4563",
   "metadata": {},
   "outputs": [],
   "source": [
    "import os\n",
    "import openai\n",
    "from dotenv import load_dotenv\n",
    "\n",
    "load_dotenv(\".env\")\n",
    "\n",
    "# Access the API key\n",
    "api_key = os.getenv(\"OPENAI_API_KEY\")\n",
    "\n",
    "#api_key = os.getenv('OPENAI_KEY')\n",
    "#openai.api_key = api_key\n"
   ]
  },
  {
   "cell_type": "code",
   "execution_count": null,
   "id": "c6ad59d7",
   "metadata": {},
   "outputs": [],
   "source": [
    "quiz = [\n",
    "    {\n",
    "      \"question\": \"What is the smallest unit of life?\",\n",
    "      \"options\": [\n",
    "        \"Cell\",\n",
    "        \"Atom\",\n",
    "        \"Molecule\",\n",
    "        \"Organism\"\n",
    "      ],\n",
    "      \"answer\": \"Cell\",\n",
    "      \"justification\": \"Cells are the basic unit of life. All living organisms are made up of one or more cells.\"\n",
    "    },\n",
    "    {\n",
    "      \"question\": \"What is the process by which plants make their own food?\",\n",
    "      \"options\": [\n",
    "        \"Photosynthesis\",\n",
    "        \"Respiration\",\n",
    "        \"Digestion\",\n",
    "        \"Fermentation\"\n",
    "      ],\n",
    "      \"answer\": \"Photosynthesis\",\n",
    "      \"justification\": \"Photosynthesis is the process by which plants use sunlight, carbon dioxide, and water to make their own food.\"\n",
    "    },\n",
    "    {\n",
    "      \"question\": \"What is the largest organ in the human body?\",\n",
    "      \"options\": [\n",
    "        \"Liver\",\n",
    "        \"Heart\",\n",
    "        \"Skin\",\n",
    "        \"Brain\"\n",
    "      ],\n",
    "      \"answer\": \"Skin\",\n",
    "      \"justification\": \"The skin is the largest organ in the human body. It protects the body from external damage and helps regulate body temperature.\"\n",
    "    }\n",
    "  ]\n"
   ]
  },
  {
   "cell_type": "code",
   "execution_count": null,
   "id": "85a771ba",
   "metadata": {},
   "outputs": [],
   "source": [
    "quiz1 = [\n",
    "    \"Data science is an interdisciplinary field that combines statistics, computer science, and domain knowledge to extract insights from data.\",\n",
    "    \"In data science, analysts use various tools and techniques to process and analyze large datasets to identify patterns and trends.\",\n",
    "    \"Machine learning is a key aspect of data science, enabling algorithms to learn from data and make predictions or decisions.\",\n",
    "    \"Data scientists often work with programming languages like Python and R to manipulate data and build models.\",\n",
    "    \"Data visualization plays a crucial role in data science, helping to communicate complex findings in a clear and understandable way.\",\n",
    "    \"Data science is employed across various industries, including finance, healthcare, marketing, and more, to drive data-driven decision-making.\",\n",
    "    \"Big data is a significant aspect of data science, involving the management and analysis of vast amounts of information.\",\n",
    "    \"Ethics and privacy are important considerations in data science, ensuring the responsible use of data and protecting individuals' information.\",\n",
    "    \"Data scientists continuously update their skills and knowledge to keep up with the rapidly evolving field of data science.\",\n",
    "    \"Data science is a powerful tool that empowers businesses and organizations to make data-informed strategies for success.\",\n",
    "]"
   ]
  },
  {
   "cell_type": "code",
   "execution_count": null,
   "id": "771c330c",
   "metadata": {},
   "outputs": [],
   "source": [
    "from langchain.embeddings import OpenAIEmbeddings\n",
    "\n",
    "embeddings = OpenAIEmbeddings(model=\"text-search-ada-query-001\", size=1536)\n",
    "\n",
    "embeddings_list = []\n",
    "\n",
    "for que in quiz1:\n",
    "    embeddings_list.append(embeddings.embed_query(que))"
   ]
  },
  {
   "cell_type": "code",
   "execution_count": null,
   "id": "32efdfde",
   "metadata": {},
   "outputs": [],
   "source": [
    "from langchain.embeddings import OpenAIEmbeddings\n",
    "\n",
    "embeddings = OpenAIEmbeddings()\n",
    "\n",
    "embeddings_list = []\n",
    "\n",
    "#for que in quiz:\n",
    " #   embeddings_list.append(embeddings.embed_query(que))\n",
    "    \n",
    "# List to store the embeddings\n",
    "embeddings_list = []\n",
    "\n",
    "for question_info in quiz:\n",
    "    question_text = question_info[\"question\"]\n",
    "    options = question_info[\"options\"]\n",
    "    answer = question_info[\"answer\"]\n",
    "    justification = question_info[\"justification\"]\n",
    "\n",
    "    # Embed question text, options, and justification\n",
    "    question_embedding = embeddings.embed_query(question_text)\n",
    "    option_embeddings = [embeddings.embed_query(option) for option in options]\n",
    "    answer_embeddings = embeddings.embed_query(answer)\n",
    "    justification_embedding = embeddings.embed_query(justification)\n",
    "\n",
    "    # Append embeddings to the list\n",
    "    embeddings_list.append({\n",
    "        \"question_embedding\": question_embedding,\n",
    "        \"option_embeddings\": option_embeddings,\n",
    "        \"answer_embeddings\": answer_embeddings,\n",
    "        \"justification_embedding\": justification_embedding,\n",
    "    })"
   ]
  },
  {
   "cell_type": "code",
   "execution_count": null,
   "id": "38546b23",
   "metadata": {},
   "outputs": [],
   "source": []
  }
 ],
 "metadata": {
  "kernelspec": {
   "display_name": "Python 3 (ipykernel)",
   "language": "python",
   "name": "python3"
  },
  "language_info": {
   "codemirror_mode": {
    "name": "ipython",
    "version": 3
   },
   "file_extension": ".py",
   "mimetype": "text/x-python",
   "name": "python",
   "nbconvert_exporter": "python",
   "pygments_lexer": "ipython3",
   "version": "3.9.7"
  }
 },
 "nbformat": 4,
 "nbformat_minor": 5
}
