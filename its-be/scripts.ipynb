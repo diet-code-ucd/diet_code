{
 "cells": [
  {
   "cell_type": "code",
   "execution_count": 10,
   "id": "fabcc14e-f695-4d12-9a26-89e8c1ac52e2",
   "metadata": {},
   "outputs": [],
   "source": [
    "from pony.orm import db_session, select\n",
    "from be import db\n",
    "from be.models import User, Course, Test, Question, Option, Topic, UserAnswer\n",
    "import json"
   ]
  },
  {
   "cell_type": "markdown",
   "id": "a5497274-7986-4b65-9cf6-7e88426ed299",
   "metadata": {},
   "source": [
    "## Load seed data into db"
   ]
  },
  {
   "cell_type": "code",
   "execution_count": 5,
   "id": "6aa65957-e2c7-484f-a362-2226dfaaf73c",
   "metadata": {},
   "outputs": [
    {
     "ename": "BindingError",
     "evalue": "Database object was already bound to MySQL provider",
     "output_type": "error",
     "traceback": [
      "\u001b[0;31m---------------------------------------------------------------------------\u001b[0m",
      "\u001b[0;31mBindingError\u001b[0m                              Traceback (most recent call last)",
      "Cell \u001b[0;32mIn[5], line 1\u001b[0m\n\u001b[0;32m----> 1\u001b[0m \u001b[43mdb\u001b[49m\u001b[38;5;241;43m.\u001b[39;49m\u001b[43mbind\u001b[49m\u001b[43m(\u001b[49m\n\u001b[1;32m      2\u001b[0m \u001b[43m    \u001b[49m\u001b[43mprovider\u001b[49m\u001b[43m \u001b[49m\u001b[38;5;241;43m=\u001b[39;49m\u001b[43m \u001b[49m\u001b[38;5;124;43m'\u001b[39;49m\u001b[38;5;124;43mmysql\u001b[39;49m\u001b[38;5;124;43m'\u001b[39;49m\u001b[43m,\u001b[49m\n\u001b[1;32m      3\u001b[0m \u001b[43m    \u001b[49m\u001b[43mhost\u001b[49m\u001b[43m \u001b[49m\u001b[38;5;241;43m=\u001b[39;49m\u001b[43m \u001b[49m\u001b[38;5;124;43m'\u001b[39;49m\u001b[38;5;124;43mlocalhost\u001b[39;49m\u001b[38;5;124;43m'\u001b[39;49m\u001b[43m,\u001b[49m\n\u001b[1;32m      4\u001b[0m \u001b[43m    \u001b[49m\u001b[43muser\u001b[49m\u001b[43m \u001b[49m\u001b[38;5;241;43m=\u001b[39;49m\u001b[43m \u001b[49m\u001b[38;5;124;43m'\u001b[39;49m\u001b[38;5;124;43mits_admin\u001b[39;49m\u001b[38;5;124;43m'\u001b[39;49m\u001b[43m,\u001b[49m\n\u001b[1;32m      5\u001b[0m \u001b[43m    \u001b[49m\u001b[43mpassword\u001b[49m\u001b[43m \u001b[49m\u001b[38;5;241;43m=\u001b[39;49m\u001b[43m \u001b[49m\u001b[38;5;124;43m'\u001b[39;49m\u001b[38;5;124;43mtest123\u001b[39;49m\u001b[38;5;124;43m'\u001b[39;49m\u001b[43m,\u001b[49m\n\u001b[1;32m      6\u001b[0m \u001b[43m    \u001b[49m\u001b[43mdb\u001b[49m\u001b[43m \u001b[49m\u001b[38;5;241;43m=\u001b[39;49m\u001b[38;5;124;43m'\u001b[39;49m\u001b[38;5;124;43mits-mysql\u001b[39;49m\u001b[38;5;124;43m'\u001b[39;49m\n\u001b[1;32m      7\u001b[0m \u001b[43m)\u001b[49m\n\u001b[1;32m      8\u001b[0m db\u001b[38;5;241m.\u001b[39mgenerate_mapping(create_tables\u001b[38;5;241m=\u001b[39m\u001b[38;5;28;01mTrue\u001b[39;00m)\n",
      "File \u001b[0;32m<string>:2\u001b[0m, in \u001b[0;36mbind\u001b[0;34m(self, *args, **kwargs)\u001b[0m\n",
      "File \u001b[0;32m~/.local/share/micromamba/envs/diet_code/lib/python3.9/site-packages/pony/utils/utils.py:75\u001b[0m, in \u001b[0;36mcut_traceback\u001b[0;34m(func, *args, **kwargs)\u001b[0m\n\u001b[1;32m     73\u001b[0m     module_name \u001b[38;5;241m=\u001b[39m tb\u001b[38;5;241m.\u001b[39mtb_frame\u001b[38;5;241m.\u001b[39mf_globals\u001b[38;5;241m.\u001b[39mget(\u001b[38;5;124m'\u001b[39m\u001b[38;5;124m__name__\u001b[39m\u001b[38;5;124m'\u001b[39m) \u001b[38;5;129;01mor\u001b[39;00m \u001b[38;5;124m'\u001b[39m\u001b[38;5;124m'\u001b[39m\n\u001b[1;32m     74\u001b[0m     \u001b[38;5;28;01mif\u001b[39;00m module_name\u001b[38;5;241m.\u001b[39mstartswith(\u001b[38;5;124m'\u001b[39m\u001b[38;5;124mpony.utils\u001b[39m\u001b[38;5;124m'\u001b[39m) \u001b[38;5;129;01mand\u001b[39;00m tb\u001b[38;5;241m.\u001b[39mtb_frame\u001b[38;5;241m.\u001b[39mf_code\u001b[38;5;241m.\u001b[39mco_name \u001b[38;5;241m==\u001b[39m \u001b[38;5;124m'\u001b[39m\u001b[38;5;124mthrow\u001b[39m\u001b[38;5;124m'\u001b[39m:\n\u001b[0;32m---> 75\u001b[0m         \u001b[43mreraise\u001b[49m\u001b[43m(\u001b[49m\u001b[43mexc_type\u001b[49m\u001b[43m,\u001b[49m\u001b[43m \u001b[49m\u001b[43mexc\u001b[49m\u001b[43m,\u001b[49m\u001b[43m \u001b[49m\u001b[43mlast_pony_tb\u001b[49m\u001b[43m)\u001b[49m\n\u001b[1;32m     76\u001b[0m     reraise(exc_type, exc, full_tb)\n\u001b[1;32m     77\u001b[0m \u001b[38;5;28;01mfinally\u001b[39;00m:\n",
      "File \u001b[0;32m~/.local/share/micromamba/envs/diet_code/lib/python3.9/site-packages/pony/utils/utils.py:88\u001b[0m, in \u001b[0;36mreraise\u001b[0;34m(***failed resolving arguments***)\u001b[0m\n\u001b[1;32m     87\u001b[0m \u001b[38;5;28;01mdef\u001b[39;00m \u001b[38;5;21mreraise\u001b[39m(exc_type, exc, tb):\n\u001b[0;32m---> 88\u001b[0m     \u001b[38;5;28;01mtry\u001b[39;00m: \u001b[38;5;28;01mraise\u001b[39;00m exc\u001b[38;5;241m.\u001b[39mwith_traceback(tb)\n\u001b[1;32m     89\u001b[0m     \u001b[38;5;28;01mfinally\u001b[39;00m: \u001b[38;5;28;01mdel\u001b[39;00m exc, tb\n",
      "File \u001b[0;32m~/.local/share/micromamba/envs/diet_code/lib/python3.9/site-packages/pony/orm/core.py:769\u001b[0m, in \u001b[0;36mDatabase._bind\u001b[0;34m(self, *args, **kwargs)\u001b[0m\n\u001b[1;32m    766\u001b[0m \u001b[38;5;28;01mdef\u001b[39;00m \u001b[38;5;21m_bind\u001b[39m(\u001b[38;5;28mself\u001b[39m, \u001b[38;5;241m*\u001b[39margs, \u001b[38;5;241m*\u001b[39m\u001b[38;5;241m*\u001b[39mkwargs):\n\u001b[1;32m    767\u001b[0m     \u001b[38;5;66;03m# argument 'self' cannot be named 'database', because 'database' can be in kwargs\u001b[39;00m\n\u001b[1;32m    768\u001b[0m     \u001b[38;5;28;01mif\u001b[39;00m \u001b[38;5;28mself\u001b[39m\u001b[38;5;241m.\u001b[39mprovider \u001b[38;5;129;01mis\u001b[39;00m \u001b[38;5;129;01mnot\u001b[39;00m \u001b[38;5;28;01mNone\u001b[39;00m:\n\u001b[0;32m--> 769\u001b[0m         \u001b[43mthrow\u001b[49m\u001b[43m(\u001b[49m\u001b[43mBindingError\u001b[49m\u001b[43m,\u001b[49m\u001b[43m \u001b[49m\u001b[38;5;124;43m'\u001b[39;49m\u001b[38;5;124;43mDatabase object was already bound to \u001b[39;49m\u001b[38;5;132;43;01m%s\u001b[39;49;00m\u001b[38;5;124;43m provider\u001b[39;49m\u001b[38;5;124;43m'\u001b[39;49m\u001b[43m \u001b[49m\u001b[38;5;241;43m%\u001b[39;49m\u001b[43m \u001b[49m\u001b[38;5;28;43mself\u001b[39;49m\u001b[38;5;241;43m.\u001b[39;49m\u001b[43mprovider\u001b[49m\u001b[38;5;241;43m.\u001b[39;49m\u001b[43mdialect\u001b[49m\u001b[43m)\u001b[49m\n\u001b[1;32m    770\u001b[0m     \u001b[38;5;28;01mif\u001b[39;00m \u001b[38;5;28mlen\u001b[39m(args) \u001b[38;5;241m==\u001b[39m \u001b[38;5;241m1\u001b[39m \u001b[38;5;129;01mand\u001b[39;00m \u001b[38;5;129;01mnot\u001b[39;00m kwargs \u001b[38;5;129;01mand\u001b[39;00m \u001b[38;5;28mhasattr\u001b[39m(args[\u001b[38;5;241m0\u001b[39m], \u001b[38;5;124m'\u001b[39m\u001b[38;5;124mkeys\u001b[39m\u001b[38;5;124m'\u001b[39m):\n\u001b[1;32m    771\u001b[0m         args, kwargs \u001b[38;5;241m=\u001b[39m (), args[\u001b[38;5;241m0\u001b[39m]\n",
      "File \u001b[0;32m~/.local/share/micromamba/envs/diet_code/lib/python3.9/site-packages/pony/utils/utils.py:101\u001b[0m, in \u001b[0;36mthrow\u001b[0;34m(exc_type, *args, **kwargs)\u001b[0m\n\u001b[1;32m     99\u001b[0m         \u001b[38;5;28;01mraise\u001b[39;00m exc\n\u001b[1;32m    100\u001b[0m     \u001b[38;5;28;01melse\u001b[39;00m:\n\u001b[0;32m--> 101\u001b[0m         \u001b[38;5;28;01mraise\u001b[39;00m exc  \u001b[38;5;66;03m# Set \"pony.options.CUT_TRACEBACK = False\" to see full traceback\u001b[39;00m\n\u001b[1;32m    102\u001b[0m \u001b[38;5;28;01mfinally\u001b[39;00m: \u001b[38;5;28;01mdel\u001b[39;00m exc\n",
      "\u001b[0;31mBindingError\u001b[0m: Database object was already bound to MySQL provider"
     ]
    }
   ],
   "source": [
    "db.bind(\n",
    "    provider = 'mysql',\n",
    "    host = 'localhost',\n",
    "    user = 'its_admin',\n",
    "    password = 'test123',\n",
    "    db ='its-mysql'\n",
    ")\n",
    "db.generate_mapping(create_tables=True)"
   ]
  },
  {
   "cell_type": "code",
   "execution_count": 3,
   "id": "cf420324-1516-4235-9351-2411c68c956d",
   "metadata": {},
   "outputs": [],
   "source": [
    "with open('seed/courses_list.json', 'rb') as seed_data:\n",
    "    seed_data = json.load(seed_data)\n",
    "    with db_session:\n",
    "        for course in seed_data.keys():\n",
    "            topics = []\n",
    "            for t in seed_data[course]:\n",
    "                topics.append(Topic(topic=t))\n",
    "            Course(name=course, topics=topics)"
   ]
  }
 ],
 "metadata": {
  "kernelspec": {
   "display_name": "Python 3 (ipykernel)",
   "language": "python",
   "name": "python3"
  },
  "language_info": {
   "codemirror_mode": {
    "name": "ipython",
    "version": 3
   },
   "file_extension": ".py",
   "mimetype": "text/x-python",
   "name": "python",
   "nbconvert_exporter": "python",
   "pygments_lexer": "ipython3",
   "version": "3.9.16"
  }
 },
 "nbformat": 4,
 "nbformat_minor": 5
}
