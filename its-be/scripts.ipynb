{
 "cells": [
  {
   "cell_type": "code",
   "execution_count": 1,
   "id": "fabcc14e-f695-4d12-9a26-89e8c1ac52e2",
   "metadata": {},
   "outputs": [],
   "source": [
    "from pony.orm import db_session\n",
    "from be import db\n",
    "from be.models import User, Course, Test, Question, Option, Tag, UserAnswer\n",
    "import json"
   ]
  },
  {
   "cell_type": "markdown",
   "id": "a5497274-7986-4b65-9cf6-7e88426ed299",
   "metadata": {},
   "source": [
    "## Load seed data into db"
   ]
  },
  {
   "cell_type": "code",
   "execution_count": 2,
   "id": "6aa65957-e2c7-484f-a362-2226dfaaf73c",
   "metadata": {},
   "outputs": [],
   "source": [
    "db.bind(\n",
    "    provider = 'mysql',\n",
    "    host = 'localhost',\n",
    "    user = 'its_admin',\n",
    "    password = 'test123',\n",
    "    db ='its-mysql'\n",
    ")\n",
    "db.generate_mapping(create_tables=True)"
   ]
  },
  {
   "cell_type": "code",
   "execution_count": 3,
   "id": "cf420324-1516-4235-9351-2411c68c956d",
   "metadata": {},
   "outputs": [],
   "source": [
    "maths = Course(\n",
    "    name='Maths'\n",
    ")\n",
    "geo = Course(\n",
    "    name='Geography'\n",
    ")\n",
    "physics = Course(\n",
    "    name='Physics'\n",
    ")\n",
    "\n",
    "def create_seed_data(file, course):\n",
    "    with open(file, 'rb') as f:\n",
    "        maths_questions = json.load(f)\n",
    "        for q in maths_questions:\n",
    "            tags = []\n",
    "            for t in q['tags']:\n",
    "                existing_tag = Tag.get(tag=t)\n",
    "                if existing_tag:\n",
    "                    tags.append(existing_tag)\n",
    "                else:\n",
    "                    tags.append(Tag(tag=t))\n",
    "            question = Question(\n",
    "                course=course, \n",
    "                question=q['question'],\n",
    "                answer=q['answer'],\n",
    "                difficulty='easy',\n",
    "                tags=tags,\n",
    "            )\n",
    "            options = []\n",
    "            for o in q['options']:\n",
    "                options.append(Option(option=o,question=question))\n",
    "            question.options = options\n",
    "            \n",
    "            \n",
    "with db_session:\n",
    "    create_seed_data('seed/maths.json', maths)\n",
    "    create_seed_data('seed/geography.json', geo)\n",
    "    create_seed_data('seed/physics.json', physics)"
   ]
  },
  {
   "cell_type": "code",
   "execution_count": null,
   "id": "bb9ddb8d-cce2-4569-9efa-5a6de75cf860",
   "metadata": {},
   "outputs": [],
   "source": []
  }
 ],
 "metadata": {
  "kernelspec": {
   "display_name": "Python 3 (ipykernel)",
   "language": "python",
   "name": "python3"
  },
  "language_info": {
   "codemirror_mode": {
    "name": "ipython",
    "version": 3
   },
   "file_extension": ".py",
   "mimetype": "text/x-python",
   "name": "python",
   "nbconvert_exporter": "python",
   "pygments_lexer": "ipython3",
   "version": "3.11.4"
  }
 },
 "nbformat": 4,
 "nbformat_minor": 5
}
