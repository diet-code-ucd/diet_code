{
 "cells": [
  {
   "cell_type": "code",
   "execution_count": 1,
   "id": "fabcc14e-f695-4d12-9a26-89e8c1ac52e2",
   "metadata": {},
   "outputs": [],
   "source": [
    "from pony.orm import db_session, select\n",
    "from be import db\n",
    "from be.models import User, Course, Test, Question, Option, Topic, UserAnswer\n",
    "import json"
   ]
  },
  {
   "cell_type": "markdown",
   "id": "a5497274-7986-4b65-9cf6-7e88426ed299",
   "metadata": {},
   "source": [
    "## Load seed data into db"
   ]
  },
  {
   "cell_type": "code",
   "execution_count": 2,
   "id": "6aa65957-e2c7-484f-a362-2226dfaaf73c",
   "metadata": {},
   "outputs": [],
   "source": [
    "db.bind(\n",
    "    provider = 'mysql',\n",
    "    host = 'localhost',\n",
    "    user = 'its_admin',\n",
    "    password = 'test123',\n",
    "    db ='its-mysql'\n",
    ")\n",
    "db.generate_mapping(create_tables=True)"
   ]
  },
  {
   "cell_type": "code",
   "execution_count": 3,
   "id": "cf420324-1516-4235-9351-2411c68c956d",
   "metadata": {},
   "outputs": [],
   "source": [
    "with open('seed/courses_list.json', 'rb') as seed_data:\n",
    "    seed_data = json.load(seed_data)\n",
    "    with db_session:\n",
    "        for course in seed_data.keys():\n",
    "            topics = []\n",
    "            for t in seed_data[course]:\n",
    "                topics.append(Topic(topic=t))\n",
    "            Course(name=course, topics=topics)"
   ]
  }
 ],
 "metadata": {
  "kernelspec": {
   "display_name": "Python 3 (ipykernel)",
   "language": "python",
   "name": "python3"
  },
  "language_info": {
   "codemirror_mode": {
    "name": "ipython",
    "version": 3
   },
   "file_extension": ".py",
   "mimetype": "text/x-python",
   "name": "python",
   "nbconvert_exporter": "python",
   "pygments_lexer": "ipython3",
   "version": "3.9.16"
  }
 },
 "nbformat": 4,
 "nbformat_minor": 5
}
