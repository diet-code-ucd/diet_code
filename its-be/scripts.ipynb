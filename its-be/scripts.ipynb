{
 "cells": [
  {
   "cell_type": "code",
   "execution_count": 11,
   "id": "fabcc14e-f695-4d12-9a26-89e8c1ac52e2",
   "metadata": {},
   "outputs": [],
   "source": [
    "from pony.orm import db_session, select, commit\n",
    "from be import db\n",
    "from be.models import User, Course, Test, Question, Option, Topic, UserAnswer, UserCourseSelection\n",
    "from be.background_tasks import add_questions_to_test\n",
    "import json"
   ]
  },
  {
   "cell_type": "markdown",
   "id": "a5497274-7986-4b65-9cf6-7e88426ed299",
   "metadata": {},
   "source": [
    "## Load seed data into db"
   ]
  },
  {
   "cell_type": "code",
   "execution_count": 2,
   "id": "6aa65957-e2c7-484f-a362-2226dfaaf73c",
   "metadata": {},
   "outputs": [],
   "source": [
    "db.bind(\n",
    "    provider = 'mysql',\n",
    "    host = 'localhost',\n",
    "    user = 'its_admin',\n",
    "    password = 'test123',\n",
    "    db ='its-mysql'\n",
    ")\n",
    "db.generate_mapping(create_tables=True)"
   ]
  },
  {
   "cell_type": "code",
   "execution_count": 3,
   "id": "cf420324-1516-4235-9351-2411c68c956d",
   "metadata": {},
   "outputs": [
    {
     "ename": "TransactionIntegrityError",
     "evalue": "Object Topic['Algebra'] cannot be stored in the database. IntegrityError: 1062 Duplicate entry 'Algebra' for key 'topic.PRIMARY'",
     "output_type": "error",
     "traceback": [
      "\u001b[0;31m---------------------------------------------------------------------------\u001b[0m",
      "\u001b[0;31mTransactionIntegrityError\u001b[0m                 Traceback (most recent call last)",
      "Cell \u001b[0;32mIn[3], line 8\u001b[0m\n\u001b[1;32m      6\u001b[0m \u001b[38;5;28;01mfor\u001b[39;00m t \u001b[38;5;129;01min\u001b[39;00m seed_data[course]:\n\u001b[1;32m      7\u001b[0m     topics\u001b[38;5;241m.\u001b[39mappend(Topic(topic\u001b[38;5;241m=\u001b[39mt))\n\u001b[0;32m----> 8\u001b[0m Course(name\u001b[38;5;241m=\u001b[39mcourse, topics\u001b[38;5;241m=\u001b[39mtopics)\n",
      "File \u001b[0;32m~/.local/share/micromamba/envs/diet_code/lib/python3.9/site-packages/pony/orm/core.py:467\u001b[0m, in \u001b[0;36mDBSessionContextManager.__exit__\u001b[0;34m(db_session, exc_type, exc, tb)\u001b[0m\n\u001b[1;32m    465\u001b[0m     \u001b[38;5;28;01mif\u001b[39;00m \u001b[38;5;129;01mnot\u001b[39;00m local\u001b[38;5;241m.\u001b[39mdb_context_counter:\n\u001b[1;32m    466\u001b[0m         \u001b[38;5;28;01massert\u001b[39;00m local\u001b[38;5;241m.\u001b[39mdb_session \u001b[38;5;129;01mis\u001b[39;00m db_session\n\u001b[0;32m--> 467\u001b[0m         \u001b[43mdb_session\u001b[49m\u001b[38;5;241;43m.\u001b[39;49m\u001b[43m_commit_or_rollback\u001b[49m\u001b[43m(\u001b[49m\u001b[43mexc_type\u001b[49m\u001b[43m,\u001b[49m\u001b[43m \u001b[49m\u001b[43mexc\u001b[49m\u001b[43m,\u001b[49m\u001b[43m \u001b[49m\u001b[43mtb\u001b[49m\u001b[43m)\u001b[49m\n\u001b[1;32m    468\u001b[0m \u001b[38;5;28;01mfinally\u001b[39;00m:\n\u001b[1;32m    469\u001b[0m     \u001b[38;5;28;01mif\u001b[39;00m db_session\u001b[38;5;241m.\u001b[39msql_debug \u001b[38;5;129;01mis\u001b[39;00m \u001b[38;5;129;01mnot\u001b[39;00m \u001b[38;5;28;01mNone\u001b[39;00m:\n",
      "File \u001b[0;32m~/.local/share/micromamba/envs/diet_code/lib/python3.9/site-packages/pony/orm/core.py:481\u001b[0m, in \u001b[0;36mDBSessionContextManager._commit_or_rollback\u001b[0;34m(***failed resolving arguments***)\u001b[0m\n\u001b[1;32m    479\u001b[0m     \u001b[38;5;28;01mexcept\u001b[39;00m: rollback_and_reraise(sys\u001b[38;5;241m.\u001b[39mexc_info())\n\u001b[1;32m    480\u001b[0m \u001b[38;5;28;01mif\u001b[39;00m can_commit:\n\u001b[0;32m--> 481\u001b[0m     \u001b[43mcommit\u001b[49m\u001b[43m(\u001b[49m\u001b[43m)\u001b[49m\n\u001b[1;32m    482\u001b[0m     \u001b[38;5;28;01mfor\u001b[39;00m cache \u001b[38;5;129;01min\u001b[39;00m _get_caches(): cache\u001b[38;5;241m.\u001b[39mrelease()\n\u001b[1;32m    483\u001b[0m     \u001b[38;5;28;01massert\u001b[39;00m \u001b[38;5;129;01mnot\u001b[39;00m local\u001b[38;5;241m.\u001b[39mdb2cache\n",
      "File \u001b[0;32m<string>:2\u001b[0m, in \u001b[0;36mcommit\u001b[0;34m()\u001b[0m\n",
      "File \u001b[0;32m~/.local/share/micromamba/envs/diet_code/lib/python3.9/site-packages/pony/utils/utils.py:75\u001b[0m, in \u001b[0;36mcut_traceback\u001b[0;34m(func, *args, **kwargs)\u001b[0m\n\u001b[1;32m     73\u001b[0m     module_name \u001b[38;5;241m=\u001b[39m tb\u001b[38;5;241m.\u001b[39mtb_frame\u001b[38;5;241m.\u001b[39mf_globals\u001b[38;5;241m.\u001b[39mget(\u001b[38;5;124m'\u001b[39m\u001b[38;5;124m__name__\u001b[39m\u001b[38;5;124m'\u001b[39m) \u001b[38;5;129;01mor\u001b[39;00m \u001b[38;5;124m'\u001b[39m\u001b[38;5;124m'\u001b[39m\n\u001b[1;32m     74\u001b[0m     \u001b[38;5;28;01mif\u001b[39;00m module_name\u001b[38;5;241m.\u001b[39mstartswith(\u001b[38;5;124m'\u001b[39m\u001b[38;5;124mpony.utils\u001b[39m\u001b[38;5;124m'\u001b[39m) \u001b[38;5;129;01mand\u001b[39;00m tb\u001b[38;5;241m.\u001b[39mtb_frame\u001b[38;5;241m.\u001b[39mf_code\u001b[38;5;241m.\u001b[39mco_name \u001b[38;5;241m==\u001b[39m \u001b[38;5;124m'\u001b[39m\u001b[38;5;124mthrow\u001b[39m\u001b[38;5;124m'\u001b[39m:\n\u001b[0;32m---> 75\u001b[0m         \u001b[43mreraise\u001b[49m\u001b[43m(\u001b[49m\u001b[43mexc_type\u001b[49m\u001b[43m,\u001b[49m\u001b[43m \u001b[49m\u001b[43mexc\u001b[49m\u001b[43m,\u001b[49m\u001b[43m \u001b[49m\u001b[43mlast_pony_tb\u001b[49m\u001b[43m)\u001b[49m\n\u001b[1;32m     76\u001b[0m     reraise(exc_type, exc, full_tb)\n\u001b[1;32m     77\u001b[0m \u001b[38;5;28;01mfinally\u001b[39;00m:\n",
      "File \u001b[0;32m~/.local/share/micromamba/envs/diet_code/lib/python3.9/site-packages/pony/utils/utils.py:88\u001b[0m, in \u001b[0;36mreraise\u001b[0;34m(***failed resolving arguments***)\u001b[0m\n\u001b[1;32m     87\u001b[0m \u001b[38;5;28;01mdef\u001b[39;00m \u001b[38;5;21mreraise\u001b[39m(exc_type, exc, tb):\n\u001b[0;32m---> 88\u001b[0m     \u001b[38;5;28;01mtry\u001b[39;00m: \u001b[38;5;28;01mraise\u001b[39;00m exc\u001b[38;5;241m.\u001b[39mwith_traceback(tb)\n\u001b[1;32m     89\u001b[0m     \u001b[38;5;28;01mfinally\u001b[39;00m: \u001b[38;5;28;01mdel\u001b[39;00m exc, tb\n",
      "File \u001b[0;32m~/.local/share/micromamba/envs/diet_code/lib/python3.9/site-packages/pony/orm/core.py:5276\u001b[0m, in \u001b[0;36mEntity._save_created_\u001b[0;34m(obj)\u001b[0m\n\u001b[1;32m   5274\u001b[0m \u001b[38;5;28;01mexcept\u001b[39;00m IntegrityError \u001b[38;5;28;01mas\u001b[39;00m e:\n\u001b[1;32m   5275\u001b[0m     msg \u001b[38;5;241m=\u001b[39m \u001b[38;5;124m\"\u001b[39m\u001b[38;5;124m \u001b[39m\u001b[38;5;124m\"\u001b[39m\u001b[38;5;241m.\u001b[39mjoin(tostring(arg) \u001b[38;5;28;01mfor\u001b[39;00m arg \u001b[38;5;129;01min\u001b[39;00m e\u001b[38;5;241m.\u001b[39margs)\n\u001b[0;32m-> 5276\u001b[0m     \u001b[43mthrow\u001b[49m\u001b[43m(\u001b[49m\u001b[43mTransactionIntegrityError\u001b[49m\u001b[43m,\u001b[49m\n\u001b[1;32m   5277\u001b[0m \u001b[43m          \u001b[49m\u001b[38;5;124;43m'\u001b[39;49m\u001b[38;5;124;43mObject \u001b[39;49m\u001b[38;5;132;43;01m%r\u001b[39;49;00m\u001b[38;5;124;43m cannot be stored in the database. \u001b[39;49m\u001b[38;5;132;43;01m%s\u001b[39;49;00m\u001b[38;5;124;43m: \u001b[39;49m\u001b[38;5;132;43;01m%s\u001b[39;49;00m\u001b[38;5;124;43m'\u001b[39;49m\n\u001b[1;32m   5278\u001b[0m \u001b[43m          \u001b[49m\u001b[38;5;241;43m%\u001b[39;49m\u001b[43m \u001b[49m\u001b[43m(\u001b[49m\u001b[43mobj\u001b[49m\u001b[43m,\u001b[49m\u001b[43m \u001b[49m\u001b[43me\u001b[49m\u001b[38;5;241;43m.\u001b[39;49m\u001b[38;5;18;43m__class__\u001b[39;49m\u001b[38;5;241;43m.\u001b[39;49m\u001b[38;5;18;43m__name__\u001b[39;49m\u001b[43m,\u001b[49m\u001b[43m \u001b[49m\u001b[43mmsg\u001b[49m\u001b[43m)\u001b[49m\u001b[43m,\u001b[49m\u001b[43m \u001b[49m\u001b[43me\u001b[49m\u001b[43m)\u001b[49m\n\u001b[1;32m   5279\u001b[0m \u001b[38;5;28;01mexcept\u001b[39;00m DatabaseError \u001b[38;5;28;01mas\u001b[39;00m e:\n\u001b[1;32m   5280\u001b[0m     msg \u001b[38;5;241m=\u001b[39m \u001b[38;5;124m\"\u001b[39m\u001b[38;5;124m \u001b[39m\u001b[38;5;124m\"\u001b[39m\u001b[38;5;241m.\u001b[39mjoin(tostring(arg) \u001b[38;5;28;01mfor\u001b[39;00m arg \u001b[38;5;129;01min\u001b[39;00m e\u001b[38;5;241m.\u001b[39margs)\n",
      "File \u001b[0;32m~/.local/share/micromamba/envs/diet_code/lib/python3.9/site-packages/pony/utils/utils.py:101\u001b[0m, in \u001b[0;36mthrow\u001b[0;34m(exc_type, *args, **kwargs)\u001b[0m\n\u001b[1;32m     99\u001b[0m         \u001b[38;5;28;01mraise\u001b[39;00m exc\n\u001b[1;32m    100\u001b[0m     \u001b[38;5;28;01melse\u001b[39;00m:\n\u001b[0;32m--> 101\u001b[0m         \u001b[38;5;28;01mraise\u001b[39;00m exc  \u001b[38;5;66;03m# Set \"pony.options.CUT_TRACEBACK = False\" to see full traceback\u001b[39;00m\n\u001b[1;32m    102\u001b[0m \u001b[38;5;28;01mfinally\u001b[39;00m: \u001b[38;5;28;01mdel\u001b[39;00m exc\n",
      "\u001b[0;31mTransactionIntegrityError\u001b[0m: Object Topic['Algebra'] cannot be stored in the database. IntegrityError: 1062 Duplicate entry 'Algebra' for key 'topic.PRIMARY'"
     ]
    }
   ],
   "source": [
    "with open('seed/courses_list.json', 'rb') as seed_data:\n",
    "    seed_data = json.load(seed_data)\n",
    "    with db_session:\n",
    "        for course in seed_data.keys():\n",
    "            topics = []\n",
    "            for t in seed_data[course]:\n",
    "                topics.append(Topic(topic=t))\n",
    "            Course(name=course, topics=topics)"
   ]
  },
  {
   "cell_type": "code",
   "execution_count": 4,
   "id": "b878389f-9f8b-4040-aa0a-964e526713f8",
   "metadata": {},
   "outputs": [],
   "source": [
    "with db_session:\n",
    "    if not User.get(username=\"admin\"):\n",
    "        User(username=\"admin\",password=\"pbkdf2:sha256:600000$XrquGmU5oGJhnxvp$a6eee924e0e7fb1fc53ac91517a8010527e77801da4e8b4d1f8c77bb95b2fcaf\")"
   ]
  },
  {
   "cell_type": "code",
   "execution_count": 5,
   "id": "33d2f0b8-2fe7-4d74-b44b-4d730dbc4708",
   "metadata": {},
   "outputs": [],
   "source": [
    "with db_session:\n",
    "    user = User.get(username=\"admin\")\n",
    "    courses = Course.select()\n",
    "    for course in courses:\n",
    "        if course not in user.enrolled_courses:\n",
    "            user_course = UserCourseSelection(user=user, course=course)\n",
    "            user.enrolled_courses.add(user_course)"
   ]
  },
  {
   "cell_type": "code",
   "execution_count": null,
   "id": "bf100475-bd64-4e69-be45-315a8d6ffb33",
   "metadata": {},
   "outputs": [],
   "source": [
    "with db_session:\n",
    "    user = User.get(username=\"admin\")\n",
    "    for ucs in user.enrolled_courses:\n",
    "        for x in range(100):\n",
    "            course = ucs.course\n",
    "            topics = course.topics\n",
    "            new_test = Test(user_course_selection=ucs, topics=topics)\n",
    "            commit()\n",
    "            add_questions_to_test(new_test.id)"
   ]
  },
  {
   "cell_type": "code",
   "execution_count": null,
   "id": "41be3aa9-85dd-44e8-9ba4-35a2802bcf0e",
   "metadata": {},
   "outputs": [],
   "source": []
  }
 ],
 "metadata": {
  "kernelspec": {
   "display_name": "Python 3 (ipykernel)",
   "language": "python",
   "name": "python3"
  },
  "language_info": {
   "codemirror_mode": {
    "name": "ipython",
    "version": 3
   },
   "file_extension": ".py",
   "mimetype": "text/x-python",
   "name": "python",
   "nbconvert_exporter": "python",
   "pygments_lexer": "ipython3",
   "version": "3.9.16"
  }
 },
 "nbformat": 4,
 "nbformat_minor": 5
}
