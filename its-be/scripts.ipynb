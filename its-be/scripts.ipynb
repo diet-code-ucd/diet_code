{
 "cells": [
  {
   "cell_type": "code",
   "execution_count": 1,
   "id": "fabcc14e-f695-4d12-9a26-89e8c1ac52e2",
   "metadata": {},
   "outputs": [],
   "source": [
    "from pony.orm import db_session\n",
    "from be import db\n",
    "from be.models import User, Course, Test, Question, Option, Tag, UserAnswer\n",
    "import json"
   ]
  },
  {
   "cell_type": "markdown",
   "id": "a5497274-7986-4b65-9cf6-7e88426ed299",
   "metadata": {},
   "source": [
    "## Load seed data into db"
   ]
  },
  {
   "cell_type": "code",
   "execution_count": 2,
   "id": "6aa65957-e2c7-484f-a362-2226dfaaf73c",
   "metadata": {},
   "outputs": [],
   "source": [
    "db.bind(\n",
    "    provider = 'mysql',\n",
    "    host = 'localhost',\n",
    "    user = 'its_admin',\n",
    "    password = 'test123',\n",
    "    db ='its-mysql'\n",
    ")\n",
    "db.generate_mapping(create_tables=True)"
   ]
  },
  {
   "cell_type": "code",
   "execution_count": 3,
   "id": "cf420324-1516-4235-9351-2411c68c956d",
   "metadata": {},
   "outputs": [],
   "source": [
    "maths = Course(\n",
    "    name='Maths'\n",
    ")\n",
    "geo = Course(\n",
    "    name='Geography'\n",
    ")\n",
    "physics = Course(\n",
    "    name='Physics'\n",
    ")\n",
    "\n",
    "def create_seed_data(file, course):\n",
    "    with open(file, 'rb') as f:\n",
    "        maths_questions = json.load(f)\n",
    "        for q in maths_questions:\n",
    "            tags = []\n",
    "            for t in q['tags']:\n",
    "                existing_tag = Tag.get(tag=t)\n",
    "                if existing_tag:\n",
    "                    tags.append(existing_tag)\n",
    "                else:\n",
    "                    tags.append(Tag(tag=t))\n",
    "            question = Question(\n",
    "                course=course, \n",
    "                question=q['question'],\n",
    "                answer=q['answer'],\n",
    "                difficulty='easy',\n",
    "                tags=tags,\n",
    "            )\n",
    "            options = []\n",
    "            for o in q['options']:\n",
    "                options.append(Option(option=o,question=question))\n",
    "            question.options = options\n",
    "            \n",
    "            \n",
    "with db_session:\n",
    "    create_seed_data('seed/maths.json', maths)\n",
    "    create_seed_data('seed/geography.json', geo)\n",
    "    create_seed_data('seed/physics.json', physics)"
   ]
  },
  {
   "cell_type": "code",
   "execution_count": 4,
   "id": "4809ac4b-99d8-411f-aef1-c39fda9d6114",
   "metadata": {},
   "outputs": [],
   "source": [
    "with db_session:\n",
    "    if not User.get(username='ross'):\n",
    "        User(username='ross', password='pbkdf2:sha256:600000$Ca8zFeQr4XQnlLxQ$2d0025b2dec190a3ffb9ed4964330d1a0497af45143d4b627042110e1716d101')"
   ]
  },
  {
   "cell_type": "code",
   "execution_count": 5,
   "id": "0a1a802c-d54b-444a-a754-0cec71b7722b",
   "metadata": {},
   "outputs": [
    {
     "name": "stdout",
     "output_type": "stream",
     "text": [
      "[Question[1], Question[2], Question[3], Question[4], Question[5], Question[6], Question[7], Question[8], Question[9], Question[10], Question[11], Question[12], Question[13], Question[14], Question[15], Question[16], Question[17], Question[18], Question[19], Question[20], Question[21], Question[22], Question[23], Question[24]]\n"
     ]
    }
   ],
   "source": [
    "with db_session:\n",
    "    user = User[1]\n",
    "    course = Course[1]\n",
    "    questions = Question.select().filter(course=1)\n",
    "    available_questions = []\n",
    "    for q in questions:\n",
    "        if user not in q.tests.for_user:\n",
    "            available_questions.append(q)\n",
    "    print(available_questions)"
   ]
  },
  {
   "cell_type": "code",
   "execution_count": null,
   "id": "734d1121-3e4f-4244-98e9-3d9ab0dd3525",
   "metadata": {},
   "outputs": [],
   "source": []
  },
  {
   "cell_type": "code",
   "execution_count": null,
   "id": "a35cc69c",
   "metadata": {},
   "outputs": [],
   "source": []
  }
 ],
 "metadata": {
  "kernelspec": {
   "display_name": "Python 3 (ipykernel)",
   "language": "python",
   "name": "python3"
  },
  "language_info": {
   "codemirror_mode": {
    "name": "ipython",
    "version": 3
   },
   "file_extension": ".py",
   "mimetype": "text/x-python",
   "name": "python",
   "nbconvert_exporter": "python",
   "pygments_lexer": "ipython3",
   "version": "3.9.6"
  }
 },
 "nbformat": 4,
 "nbformat_minor": 5
}
