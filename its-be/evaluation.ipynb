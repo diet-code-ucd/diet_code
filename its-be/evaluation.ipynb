{
 "cells": [
  {
   "cell_type": "markdown",
   "id": "b30e3202-27de-4141-80b7-76bca0df8185",
   "metadata": {},
   "source": [
    "# A notebook to run some evaluations"
   ]
  },
  {
   "cell_type": "code",
   "execution_count": 1,
   "id": "60f5d36d-a912-4172-a384-3b90ce8b2b2d",
   "metadata": {},
   "outputs": [],
   "source": [
    "from pony.orm import db_session, select\n",
    "from be import db\n",
    "from be.models import User, Course, Test, Question, Option, Topic, UserAnswer\n",
    "import json"
   ]
  },
  {
   "cell_type": "code",
   "execution_count": 2,
   "id": "2b60131d-c699-4cb3-8d06-a38f2cc6156e",
   "metadata": {},
   "outputs": [],
   "source": [
    "db.bind(\n",
    "    provider = 'mysql',\n",
    "    host = 'localhost',\n",
    "    user = 'its_admin',\n",
    "    password = 'test123',\n",
    "    db ='its-mysql'\n",
    ")\n",
    "db.generate_mapping(create_tables=True)"
   ]
  },
  {
   "cell_type": "code",
   "execution_count": 3,
   "id": "751cca6a-d794-466c-a6c7-41b00072eb93",
   "metadata": {},
   "outputs": [
    {
     "name": "stdout",
     "output_type": "stream",
     "text": [
      "{'missing_options': 20, 'incorrect_options': 20, 'total': 110}\n"
     ]
    }
   ],
   "source": [
    "with db_session:\n",
    "    all_questions = Question.select()\n",
    "    stats = {\"missing_options\":0,\"incorrect_options\":0,\"total\":0}\n",
    "    for q in all_questions:\n",
    "        stats[\"total\"] += 1\n",
    "        if q.options.is_empty():\n",
    "            stats[\"missing_options\"] += 1\n",
    "        elif q.answer not in q.options.option:\n",
    "            stats[\"incorrect_options\"] += 1\n",
    "    print(stats)"
   ]
  },
  {
   "cell_type": "code",
   "execution_count": null,
   "id": "1472a6ef-d8de-4957-bf8b-c6575f90acc1",
   "metadata": {},
   "outputs": [],
   "source": []
  }
 ],
 "metadata": {
  "kernelspec": {
   "display_name": "Python 3 (ipykernel)",
   "language": "python",
   "name": "python3"
  },
  "language_info": {
   "codemirror_mode": {
    "name": "ipython",
    "version": 3
   },
   "file_extension": ".py",
   "mimetype": "text/x-python",
   "name": "python",
   "nbconvert_exporter": "python",
   "pygments_lexer": "ipython3",
   "version": "3.9.12"
  }
 },
 "nbformat": 4,
 "nbformat_minor": 5
}
